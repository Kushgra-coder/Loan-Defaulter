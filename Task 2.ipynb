{
 "cells": [
  {
   "cell_type": "code",
   "execution_count": 1,
   "id": "4f7244c9",
   "metadata": {},
   "outputs": [],
   "source": [
    "import numpy as np\n",
    "import pandas as pd\n",
    "import matplotlib.pyplot as plt\n",
    "import seaborn as sns\n",
    "from sklearn.model_selection import train_test_split\n",
    "import statsmodels.api as sm\n",
    "from sklearn.preprocessing import StandardScaler\n",
    "from sklearn.linear_model import LogisticRegression\n",
    "from sklearn.metrics import classification_report\n",
    "from sklearn.metrics import roc_auc_score\n",
    "from sklearn.metrics import confusion_matrix\n",
    "from sklearn.metrics import roc_curve"
   ]
  },
  {
   "cell_type": "code",
   "execution_count": 2,
   "id": "21a759fb",
   "metadata": {},
   "outputs": [
    {
     "data": {
      "text/html": [
       "<div>\n",
       "<style scoped>\n",
       "    .dataframe tbody tr th:only-of-type {\n",
       "        vertical-align: middle;\n",
       "    }\n",
       "\n",
       "    .dataframe tbody tr th {\n",
       "        vertical-align: top;\n",
       "    }\n",
       "\n",
       "    .dataframe thead th {\n",
       "        text-align: right;\n",
       "    }\n",
       "</style>\n",
       "<table border=\"1\" class=\"dataframe\">\n",
       "  <thead>\n",
       "    <tr style=\"text-align: right;\">\n",
       "      <th></th>\n",
       "      <th>loan_application_id</th>\n",
       "      <th>applicant_id</th>\n",
       "      <th>Months_loan_taken_for</th>\n",
       "      <th>Purpose</th>\n",
       "      <th>Principal_loan_amount</th>\n",
       "      <th>EMI_rate_in_percentage_of_disposable_income</th>\n",
       "      <th>Property</th>\n",
       "      <th>Has_coapplicant</th>\n",
       "      <th>Has_guarantor</th>\n",
       "      <th>Other_EMI_plans</th>\n",
       "      <th>...</th>\n",
       "      <th>Housing</th>\n",
       "      <th>Years_at_current_residence</th>\n",
       "      <th>Employment_status</th>\n",
       "      <th>Has_been_employed_for_at_least</th>\n",
       "      <th>Has_been_employed_for_at_most</th>\n",
       "      <th>Telephone</th>\n",
       "      <th>Foreign_worker</th>\n",
       "      <th>Savings_account_balance</th>\n",
       "      <th>Balance_in_existing_bank_account_(lower_limit_of_bucket)</th>\n",
       "      <th>Balance_in_existing_bank_account_(upper_limit_of_bucket)</th>\n",
       "    </tr>\n",
       "  </thead>\n",
       "  <tbody>\n",
       "    <tr>\n",
       "      <th>0</th>\n",
       "      <td>d68d975e-edad-11ea-8761-1d6f9c1ff461</td>\n",
       "      <td>1469590</td>\n",
       "      <td>6</td>\n",
       "      <td>electronic equipment</td>\n",
       "      <td>1169000</td>\n",
       "      <td>4</td>\n",
       "      <td>real estate</td>\n",
       "      <td>0</td>\n",
       "      <td>0</td>\n",
       "      <td>NaN</td>\n",
       "      <td>...</td>\n",
       "      <td>own</td>\n",
       "      <td>4</td>\n",
       "      <td>skilled employee / official</td>\n",
       "      <td>7 years</td>\n",
       "      <td>NaN</td>\n",
       "      <td>Registered under the applicant's name</td>\n",
       "      <td>1</td>\n",
       "      <td>NaN</td>\n",
       "      <td>NaN</td>\n",
       "      <td>0</td>\n",
       "    </tr>\n",
       "    <tr>\n",
       "      <th>1</th>\n",
       "      <td>d68d989e-edad-11ea-b1d5-2bcf65006448</td>\n",
       "      <td>1203873</td>\n",
       "      <td>48</td>\n",
       "      <td>electronic equipment</td>\n",
       "      <td>5951000</td>\n",
       "      <td>2</td>\n",
       "      <td>real estate</td>\n",
       "      <td>0</td>\n",
       "      <td>0</td>\n",
       "      <td>NaN</td>\n",
       "      <td>...</td>\n",
       "      <td>own</td>\n",
       "      <td>2</td>\n",
       "      <td>skilled employee / official</td>\n",
       "      <td>1 year</td>\n",
       "      <td>4 years</td>\n",
       "      <td>NaN</td>\n",
       "      <td>1</td>\n",
       "      <td>Low</td>\n",
       "      <td>0</td>\n",
       "      <td>2 lac</td>\n",
       "    </tr>\n",
       "    <tr>\n",
       "      <th>2</th>\n",
       "      <td>d68d995c-edad-11ea-814a-1b6716782575</td>\n",
       "      <td>1432761</td>\n",
       "      <td>12</td>\n",
       "      <td>education</td>\n",
       "      <td>2096000</td>\n",
       "      <td>2</td>\n",
       "      <td>real estate</td>\n",
       "      <td>0</td>\n",
       "      <td>0</td>\n",
       "      <td>NaN</td>\n",
       "      <td>...</td>\n",
       "      <td>own</td>\n",
       "      <td>3</td>\n",
       "      <td>unskilled - resident</td>\n",
       "      <td>4 years</td>\n",
       "      <td>7 years</td>\n",
       "      <td>NaN</td>\n",
       "      <td>1</td>\n",
       "      <td>Low</td>\n",
       "      <td>NaN</td>\n",
       "      <td>NaN</td>\n",
       "    </tr>\n",
       "    <tr>\n",
       "      <th>3</th>\n",
       "      <td>d68d99fc-edad-11ea-8841-17e8848060ae</td>\n",
       "      <td>1207582</td>\n",
       "      <td>42</td>\n",
       "      <td>FF&amp;E</td>\n",
       "      <td>7882000</td>\n",
       "      <td>2</td>\n",
       "      <td>building society savings agreement/life insurance</td>\n",
       "      <td>0</td>\n",
       "      <td>1</td>\n",
       "      <td>NaN</td>\n",
       "      <td>...</td>\n",
       "      <td>for free</td>\n",
       "      <td>4</td>\n",
       "      <td>skilled employee / official</td>\n",
       "      <td>4 years</td>\n",
       "      <td>7 years</td>\n",
       "      <td>NaN</td>\n",
       "      <td>1</td>\n",
       "      <td>Low</td>\n",
       "      <td>NaN</td>\n",
       "      <td>0</td>\n",
       "    </tr>\n",
       "    <tr>\n",
       "      <th>4</th>\n",
       "      <td>d68d9a92-edad-11ea-9f3d-1f8682db006a</td>\n",
       "      <td>1674436</td>\n",
       "      <td>24</td>\n",
       "      <td>new vehicle</td>\n",
       "      <td>4870000</td>\n",
       "      <td>3</td>\n",
       "      <td>NaN</td>\n",
       "      <td>0</td>\n",
       "      <td>0</td>\n",
       "      <td>NaN</td>\n",
       "      <td>...</td>\n",
       "      <td>for free</td>\n",
       "      <td>4</td>\n",
       "      <td>skilled employee / official</td>\n",
       "      <td>1 year</td>\n",
       "      <td>4 years</td>\n",
       "      <td>NaN</td>\n",
       "      <td>1</td>\n",
       "      <td>Low</td>\n",
       "      <td>NaN</td>\n",
       "      <td>0</td>\n",
       "    </tr>\n",
       "    <tr>\n",
       "      <th>...</th>\n",
       "      <td>...</td>\n",
       "      <td>...</td>\n",
       "      <td>...</td>\n",
       "      <td>...</td>\n",
       "      <td>...</td>\n",
       "      <td>...</td>\n",
       "      <td>...</td>\n",
       "      <td>...</td>\n",
       "      <td>...</td>\n",
       "      <td>...</td>\n",
       "      <td>...</td>\n",
       "      <td>...</td>\n",
       "      <td>...</td>\n",
       "      <td>...</td>\n",
       "      <td>...</td>\n",
       "      <td>...</td>\n",
       "      <td>...</td>\n",
       "      <td>...</td>\n",
       "      <td>...</td>\n",
       "      <td>...</td>\n",
       "      <td>...</td>\n",
       "    </tr>\n",
       "    <tr>\n",
       "      <th>995</th>\n",
       "      <td>d68fbba6-edad-11ea-80fe-30b2f9300e3d</td>\n",
       "      <td>1880194</td>\n",
       "      <td>12</td>\n",
       "      <td>FF&amp;E</td>\n",
       "      <td>1736000</td>\n",
       "      <td>3</td>\n",
       "      <td>real estate</td>\n",
       "      <td>0</td>\n",
       "      <td>0</td>\n",
       "      <td>NaN</td>\n",
       "      <td>...</td>\n",
       "      <td>own</td>\n",
       "      <td>4</td>\n",
       "      <td>unskilled - resident</td>\n",
       "      <td>4 years</td>\n",
       "      <td>7 years</td>\n",
       "      <td>NaN</td>\n",
       "      <td>1</td>\n",
       "      <td>Low</td>\n",
       "      <td>NaN</td>\n",
       "      <td>NaN</td>\n",
       "    </tr>\n",
       "    <tr>\n",
       "      <th>996</th>\n",
       "      <td>d68fbc28-edad-11ea-bc62-4240ac0824fa</td>\n",
       "      <td>1114064</td>\n",
       "      <td>30</td>\n",
       "      <td>used vehicle</td>\n",
       "      <td>3857000</td>\n",
       "      <td>4</td>\n",
       "      <td>building society savings agreement/life insurance</td>\n",
       "      <td>0</td>\n",
       "      <td>0</td>\n",
       "      <td>NaN</td>\n",
       "      <td>...</td>\n",
       "      <td>own</td>\n",
       "      <td>4</td>\n",
       "      <td>management / self-employed / highly qualified ...</td>\n",
       "      <td>1 year</td>\n",
       "      <td>4 years</td>\n",
       "      <td>Registered under the applicant's name</td>\n",
       "      <td>1</td>\n",
       "      <td>Low</td>\n",
       "      <td>NaN</td>\n",
       "      <td>0</td>\n",
       "    </tr>\n",
       "    <tr>\n",
       "      <th>997</th>\n",
       "      <td>d68fbcaa-edad-11ea-aafc-2de1139e42cd</td>\n",
       "      <td>1758046</td>\n",
       "      <td>12</td>\n",
       "      <td>electronic equipment</td>\n",
       "      <td>804000</td>\n",
       "      <td>4</td>\n",
       "      <td>car or other</td>\n",
       "      <td>0</td>\n",
       "      <td>0</td>\n",
       "      <td>NaN</td>\n",
       "      <td>...</td>\n",
       "      <td>own</td>\n",
       "      <td>4</td>\n",
       "      <td>skilled employee / official</td>\n",
       "      <td>7 years</td>\n",
       "      <td>NaN</td>\n",
       "      <td>NaN</td>\n",
       "      <td>1</td>\n",
       "      <td>Low</td>\n",
       "      <td>NaN</td>\n",
       "      <td>NaN</td>\n",
       "    </tr>\n",
       "    <tr>\n",
       "      <th>998</th>\n",
       "      <td>d68fbd2c-edad-11ea-b49e-2894666f2df6</td>\n",
       "      <td>1824545</td>\n",
       "      <td>45</td>\n",
       "      <td>electronic equipment</td>\n",
       "      <td>1845000</td>\n",
       "      <td>4</td>\n",
       "      <td>NaN</td>\n",
       "      <td>0</td>\n",
       "      <td>0</td>\n",
       "      <td>NaN</td>\n",
       "      <td>...</td>\n",
       "      <td>for free</td>\n",
       "      <td>4</td>\n",
       "      <td>skilled employee / official</td>\n",
       "      <td>1 year</td>\n",
       "      <td>4 years</td>\n",
       "      <td>Registered under the applicant's name</td>\n",
       "      <td>1</td>\n",
       "      <td>Low</td>\n",
       "      <td>NaN</td>\n",
       "      <td>0</td>\n",
       "    </tr>\n",
       "    <tr>\n",
       "      <th>999</th>\n",
       "      <td>d68fbdae-edad-11ea-a2ea-1c661d77d225</td>\n",
       "      <td>1660770</td>\n",
       "      <td>45</td>\n",
       "      <td>used vehicle</td>\n",
       "      <td>4576000</td>\n",
       "      <td>3</td>\n",
       "      <td>car or other</td>\n",
       "      <td>0</td>\n",
       "      <td>0</td>\n",
       "      <td>NaN</td>\n",
       "      <td>...</td>\n",
       "      <td>own</td>\n",
       "      <td>4</td>\n",
       "      <td>skilled employee / official</td>\n",
       "      <td>NaN</td>\n",
       "      <td>0 year</td>\n",
       "      <td>NaN</td>\n",
       "      <td>1</td>\n",
       "      <td>Medium</td>\n",
       "      <td>0</td>\n",
       "      <td>2 lac</td>\n",
       "    </tr>\n",
       "  </tbody>\n",
       "</table>\n",
       "<p>1000 rows × 27 columns</p>\n",
       "</div>"
      ],
      "text/plain": [
       "                      loan_application_id  applicant_id  \\\n",
       "0    d68d975e-edad-11ea-8761-1d6f9c1ff461       1469590   \n",
       "1    d68d989e-edad-11ea-b1d5-2bcf65006448       1203873   \n",
       "2    d68d995c-edad-11ea-814a-1b6716782575       1432761   \n",
       "3    d68d99fc-edad-11ea-8841-17e8848060ae       1207582   \n",
       "4    d68d9a92-edad-11ea-9f3d-1f8682db006a       1674436   \n",
       "..                                    ...           ...   \n",
       "995  d68fbba6-edad-11ea-80fe-30b2f9300e3d       1880194   \n",
       "996  d68fbc28-edad-11ea-bc62-4240ac0824fa       1114064   \n",
       "997  d68fbcaa-edad-11ea-aafc-2de1139e42cd       1758046   \n",
       "998  d68fbd2c-edad-11ea-b49e-2894666f2df6       1824545   \n",
       "999  d68fbdae-edad-11ea-a2ea-1c661d77d225       1660770   \n",
       "\n",
       "     Months_loan_taken_for               Purpose  Principal_loan_amount  \\\n",
       "0                        6  electronic equipment                1169000   \n",
       "1                       48  electronic equipment                5951000   \n",
       "2                       12             education                2096000   \n",
       "3                       42                  FF&E                7882000   \n",
       "4                       24           new vehicle                4870000   \n",
       "..                     ...                   ...                    ...   \n",
       "995                     12                  FF&E                1736000   \n",
       "996                     30          used vehicle                3857000   \n",
       "997                     12  electronic equipment                 804000   \n",
       "998                     45  electronic equipment                1845000   \n",
       "999                     45          used vehicle                4576000   \n",
       "\n",
       "     EMI_rate_in_percentage_of_disposable_income  \\\n",
       "0                                              4   \n",
       "1                                              2   \n",
       "2                                              2   \n",
       "3                                              2   \n",
       "4                                              3   \n",
       "..                                           ...   \n",
       "995                                            3   \n",
       "996                                            4   \n",
       "997                                            4   \n",
       "998                                            4   \n",
       "999                                            3   \n",
       "\n",
       "                                              Property  Has_coapplicant  \\\n",
       "0                                          real estate                0   \n",
       "1                                          real estate                0   \n",
       "2                                          real estate                0   \n",
       "3    building society savings agreement/life insurance                0   \n",
       "4                                                  NaN                0   \n",
       "..                                                 ...              ...   \n",
       "995                                        real estate                0   \n",
       "996  building society savings agreement/life insurance                0   \n",
       "997                                       car or other                0   \n",
       "998                                                NaN                0   \n",
       "999                                       car or other                0   \n",
       "\n",
       "     Has_guarantor Other_EMI_plans  ...   Housing Years_at_current_residence  \\\n",
       "0                0             NaN  ...       own                          4   \n",
       "1                0             NaN  ...       own                          2   \n",
       "2                0             NaN  ...       own                          3   \n",
       "3                1             NaN  ...  for free                          4   \n",
       "4                0             NaN  ...  for free                          4   \n",
       "..             ...             ...  ...       ...                        ...   \n",
       "995              0             NaN  ...       own                          4   \n",
       "996              0             NaN  ...       own                          4   \n",
       "997              0             NaN  ...       own                          4   \n",
       "998              0             NaN  ...  for free                          4   \n",
       "999              0             NaN  ...       own                          4   \n",
       "\n",
       "                                     Employment_status  \\\n",
       "0                          skilled employee / official   \n",
       "1                          skilled employee / official   \n",
       "2                                 unskilled - resident   \n",
       "3                          skilled employee / official   \n",
       "4                          skilled employee / official   \n",
       "..                                                 ...   \n",
       "995                               unskilled - resident   \n",
       "996  management / self-employed / highly qualified ...   \n",
       "997                        skilled employee / official   \n",
       "998                        skilled employee / official   \n",
       "999                        skilled employee / official   \n",
       "\n",
       "     Has_been_employed_for_at_least Has_been_employed_for_at_most  \\\n",
       "0                           7 years                           NaN   \n",
       "1                            1 year                       4 years   \n",
       "2                           4 years                       7 years   \n",
       "3                           4 years                       7 years   \n",
       "4                            1 year                       4 years   \n",
       "..                              ...                           ...   \n",
       "995                         4 years                       7 years   \n",
       "996                          1 year                       4 years   \n",
       "997                         7 years                           NaN   \n",
       "998                          1 year                       4 years   \n",
       "999                             NaN                        0 year   \n",
       "\n",
       "                                 Telephone  Foreign_worker  \\\n",
       "0    Registered under the applicant's name               1   \n",
       "1                                      NaN               1   \n",
       "2                                      NaN               1   \n",
       "3                                      NaN               1   \n",
       "4                                      NaN               1   \n",
       "..                                     ...             ...   \n",
       "995                                    NaN               1   \n",
       "996  Registered under the applicant's name               1   \n",
       "997                                    NaN               1   \n",
       "998  Registered under the applicant's name               1   \n",
       "999                                    NaN               1   \n",
       "\n",
       "    Savings_account_balance  \\\n",
       "0                       NaN   \n",
       "1                       Low   \n",
       "2                       Low   \n",
       "3                       Low   \n",
       "4                       Low   \n",
       "..                      ...   \n",
       "995                     Low   \n",
       "996                     Low   \n",
       "997                     Low   \n",
       "998                     Low   \n",
       "999                  Medium   \n",
       "\n",
       "     Balance_in_existing_bank_account_(lower_limit_of_bucket)  \\\n",
       "0                                                  NaN          \n",
       "1                                                    0          \n",
       "2                                                  NaN          \n",
       "3                                                  NaN          \n",
       "4                                                  NaN          \n",
       "..                                                 ...          \n",
       "995                                                NaN          \n",
       "996                                                NaN          \n",
       "997                                                NaN          \n",
       "998                                                NaN          \n",
       "999                                                  0          \n",
       "\n",
       "    Balance_in_existing_bank_account_(upper_limit_of_bucket)  \n",
       "0                                                    0        \n",
       "1                                                2 lac        \n",
       "2                                                  NaN        \n",
       "3                                                    0        \n",
       "4                                                    0        \n",
       "..                                                 ...        \n",
       "995                                                NaN        \n",
       "996                                                  0        \n",
       "997                                                NaN        \n",
       "998                                                  0        \n",
       "999                                              2 lac        \n",
       "\n",
       "[1000 rows x 27 columns]"
      ]
     },
     "execution_count": 2,
     "metadata": {},
     "output_type": "execute_result"
    }
   ],
   "source": [
    "loan=pd.read_csv('loan.csv')\n",
    "app=pd.read_csv('applicant.csv')\n",
    "df=pd.merge(loan,app,on='applicant_id')\n",
    "df"
   ]
  },
  {
   "cell_type": "code",
   "execution_count": 3,
   "id": "ce11c42d",
   "metadata": {},
   "outputs": [],
   "source": [
    "cat=df.select_dtypes(include='object')"
   ]
  },
  {
   "cell_type": "code",
   "execution_count": 4,
   "id": "4f3e6701",
   "metadata": {},
   "outputs": [],
   "source": [
    "num=df.select_dtypes(include=np.number).drop(columns='high_risk_applicant')"
   ]
  },
  {
   "cell_type": "code",
   "execution_count": 5,
   "id": "1b3bf239",
   "metadata": {},
   "outputs": [
    {
     "data": {
      "text/plain": [
       "((1000, 15), (1000, 11))"
      ]
     },
     "execution_count": 5,
     "metadata": {},
     "output_type": "execute_result"
    }
   ],
   "source": [
    "cat.shape,num.shape"
   ]
  },
  {
   "cell_type": "code",
   "execution_count": 6,
   "id": "6c4f617b",
   "metadata": {},
   "outputs": [
    {
     "data": {
      "text/plain": [
       "loan_application_id                                           0\n",
       "Purpose                                                      12\n",
       "Property                                                    154\n",
       "Other_EMI_plans                                             814\n",
       "Loan_history                                                  0\n",
       "Gender                                                        0\n",
       "Marital_status                                                0\n",
       "Housing                                                       0\n",
       "Employment_status                                             0\n",
       "Has_been_employed_for_at_least                               62\n",
       "Has_been_employed_for_at_most                               253\n",
       "Telephone                                                   596\n",
       "Savings_account_balance                                     183\n",
       "Balance_in_existing_bank_account_(lower_limit_of_bucket)    668\n",
       "Balance_in_existing_bank_account_(upper_limit_of_bucket)    457\n",
       "dtype: int64"
      ]
     },
     "execution_count": 6,
     "metadata": {},
     "output_type": "execute_result"
    }
   ],
   "source": [
    "cat.isna().sum()"
   ]
  },
  {
   "cell_type": "code",
   "execution_count": 7,
   "id": "0ed1317f",
   "metadata": {},
   "outputs": [
    {
     "data": {
      "text/plain": [
       "d68e51da-edad-11ea-85e6-3b82b84a5ca2    1\n",
       "d68f25b0-edad-11ea-a4f3-1969f6821fbc    1\n",
       "d68f611a-edad-11ea-a358-0a70d45938c0    1\n",
       "d68e4d0c-edad-11ea-ae79-3a47e5e3c803    1\n",
       "d68e73ea-edad-11ea-a50d-02cb8061727a    1\n",
       "                                       ..\n",
       "d68e370e-edad-11ea-9d54-37c1c4c21c6c    1\n",
       "d68e6d6e-edad-11ea-aa40-35ffc9e81a4d    1\n",
       "d68fb67e-edad-11ea-8d5a-29f542a3a609    1\n",
       "d68f3bf4-edad-11ea-a40c-2bd6c595582c    1\n",
       "d68fb99e-edad-11ea-b9a9-15d10df9edbb    1\n",
       "Name: loan_application_id, Length: 1000, dtype: int64"
      ]
     },
     "execution_count": 7,
     "metadata": {},
     "output_type": "execute_result"
    }
   ],
   "source": [
    "cat['loan_application_id'].value_counts()"
   ]
  },
  {
   "cell_type": "markdown",
   "id": "26718ef1",
   "metadata": {},
   "source": [
    "* It is a useless column. We should drop it"
   ]
  },
  {
   "cell_type": "code",
   "execution_count": 8,
   "id": "e49f1288",
   "metadata": {},
   "outputs": [],
   "source": [
    "cat=cat.drop(columns='loan_application_id')"
   ]
  },
  {
   "cell_type": "code",
   "execution_count": 9,
   "id": "90bdf511",
   "metadata": {},
   "outputs": [
    {
     "data": {
      "text/plain": [
       "electronic equipment    280\n",
       "new vehicle             234\n",
       "FF&E                    181\n",
       "used vehicle            103\n",
       "business                 97\n",
       "education                50\n",
       "repair costs             22\n",
       "domestic appliances      12\n",
       "career development        9\n",
       "Name: Purpose, dtype: int64"
      ]
     },
     "execution_count": 9,
     "metadata": {},
     "output_type": "execute_result"
    }
   ],
   "source": [
    "cat['Purpose'].value_counts()"
   ]
  },
  {
   "cell_type": "code",
   "execution_count": 10,
   "id": "1775f9f0",
   "metadata": {},
   "outputs": [],
   "source": [
    "cat['Purpose'].fillna('electronic equipment',inplace=True)"
   ]
  },
  {
   "cell_type": "code",
   "execution_count": 11,
   "id": "2f1915ac",
   "metadata": {},
   "outputs": [
    {
     "data": {
      "text/plain": [
       "electronic equipment    292\n",
       "new vehicle             234\n",
       "FF&E                    181\n",
       "used vehicle            103\n",
       "business                 97\n",
       "education                50\n",
       "repair costs             22\n",
       "domestic appliances      12\n",
       "career development        9\n",
       "Name: Purpose, dtype: int64"
      ]
     },
     "execution_count": 11,
     "metadata": {},
     "output_type": "execute_result"
    }
   ],
   "source": [
    "cat['Purpose'].value_counts()"
   ]
  },
  {
   "cell_type": "code",
   "execution_count": 12,
   "id": "5e093855",
   "metadata": {},
   "outputs": [
    {
     "data": {
      "text/plain": [
       "car or other                                         332\n",
       "real estate                                          282\n",
       "building society savings agreement/life insurance    232\n",
       "Name: Property, dtype: int64"
      ]
     },
     "execution_count": 12,
     "metadata": {},
     "output_type": "execute_result"
    }
   ],
   "source": [
    "cat['Property'].value_counts()"
   ]
  },
  {
   "cell_type": "code",
   "execution_count": 13,
   "id": "b424137c",
   "metadata": {},
   "outputs": [],
   "source": [
    "cat['Property'].fillna('car or other',inplace=True)"
   ]
  },
  {
   "cell_type": "code",
   "execution_count": 14,
   "id": "6e7217af",
   "metadata": {},
   "outputs": [
    {
     "data": {
      "text/plain": [
       "car or other                                         486\n",
       "real estate                                          282\n",
       "building society savings agreement/life insurance    232\n",
       "Name: Property, dtype: int64"
      ]
     },
     "execution_count": 14,
     "metadata": {},
     "output_type": "execute_result"
    }
   ],
   "source": [
    "cat['Property'].value_counts()"
   ]
  },
  {
   "cell_type": "markdown",
   "id": "59a53c44",
   "metadata": {},
   "source": [
    "* Since most of the column Other_Emi_plans is empty, we should drop it"
   ]
  },
  {
   "cell_type": "code",
   "execution_count": 15,
   "id": "f37b2a15",
   "metadata": {},
   "outputs": [],
   "source": [
    "cat=cat.drop(columns='Other_EMI_plans')"
   ]
  },
  {
   "cell_type": "code",
   "execution_count": 16,
   "id": "7d0d7611",
   "metadata": {},
   "outputs": [
    {
     "data": {
      "text/plain": [
       "1 year     339\n",
       "7 years    253\n",
       "4 years    174\n",
       "0 year     172\n",
       "Name: Has_been_employed_for_at_least, dtype: int64"
      ]
     },
     "execution_count": 16,
     "metadata": {},
     "output_type": "execute_result"
    }
   ],
   "source": [
    "cat['Has_been_employed_for_at_least'].value_counts()"
   ]
  },
  {
   "cell_type": "code",
   "execution_count": 17,
   "id": "e3b37bd1",
   "metadata": {},
   "outputs": [],
   "source": [
    "cat['Has_been_employed_for_at_least'].fillna('1 year',inplace=True)"
   ]
  },
  {
   "cell_type": "code",
   "execution_count": 18,
   "id": "cf450fc2",
   "metadata": {},
   "outputs": [
    {
     "data": {
      "text/plain": [
       "1 year     401\n",
       "7 years    253\n",
       "4 years    174\n",
       "0 year     172\n",
       "Name: Has_been_employed_for_at_least, dtype: int64"
      ]
     },
     "execution_count": 18,
     "metadata": {},
     "output_type": "execute_result"
    }
   ],
   "source": [
    "cat['Has_been_employed_for_at_least'].value_counts()"
   ]
  },
  {
   "cell_type": "code",
   "execution_count": 19,
   "id": "fd6dc196",
   "metadata": {},
   "outputs": [
    {
     "data": {
      "text/plain": [
       "0.253"
      ]
     },
     "execution_count": 19,
     "metadata": {},
     "output_type": "execute_result"
    }
   ],
   "source": [
    "cat['Has_been_employed_for_at_most'].isna().sum()/cat.shape[0]"
   ]
  },
  {
   "cell_type": "markdown",
   "id": "e29b9433",
   "metadata": {},
   "source": [
    "* We should drop rest of the columns"
   ]
  },
  {
   "cell_type": "code",
   "execution_count": 20,
   "id": "846578f9",
   "metadata": {},
   "outputs": [],
   "source": [
    "cat.drop(columns=['Has_been_employed_for_at_most','Telephone','Savings_account_balance','Balance_in_existing_bank_account_(lower_limit_of_bucket)','Balance_in_existing_bank_account_(upper_limit_of_bucket)'],inplace=True)"
   ]
  },
  {
   "cell_type": "code",
   "execution_count": 21,
   "id": "47549a4e",
   "metadata": {},
   "outputs": [
    {
     "data": {
      "text/plain": [
       "Purpose                           0\n",
       "Property                          0\n",
       "Loan_history                      0\n",
       "Gender                            0\n",
       "Marital_status                    0\n",
       "Housing                           0\n",
       "Employment_status                 0\n",
       "Has_been_employed_for_at_least    0\n",
       "dtype: int64"
      ]
     },
     "execution_count": 21,
     "metadata": {},
     "output_type": "execute_result"
    }
   ],
   "source": [
    "cat.isna().sum()"
   ]
  },
  {
   "cell_type": "code",
   "execution_count": 22,
   "id": "71a2fbd3",
   "metadata": {},
   "outputs": [
    {
     "data": {
      "text/plain": [
       "applicant_id                                   0\n",
       "Months_loan_taken_for                          0\n",
       "Principal_loan_amount                          0\n",
       "EMI_rate_in_percentage_of_disposable_income    0\n",
       "Has_coapplicant                                0\n",
       "Has_guarantor                                  0\n",
       "Number_of_existing_loans_at_this_bank          0\n",
       "Primary_applicant_age_in_years                 0\n",
       "Number_of_dependents                           0\n",
       "Years_at_current_residence                     0\n",
       "Foreign_worker                                 0\n",
       "dtype: int64"
      ]
     },
     "execution_count": 22,
     "metadata": {},
     "output_type": "execute_result"
    }
   ],
   "source": [
    "num.isna().sum()"
   ]
  },
  {
   "cell_type": "code",
   "execution_count": 23,
   "id": "81e1ca2f",
   "metadata": {},
   "outputs": [],
   "source": [
    "dum=pd.get_dummies(cat,drop_first=True)"
   ]
  },
  {
   "cell_type": "code",
   "execution_count": 24,
   "id": "8741990c",
   "metadata": {},
   "outputs": [
    {
     "data": {
      "text/html": [
       "<div>\n",
       "<style scoped>\n",
       "    .dataframe tbody tr th:only-of-type {\n",
       "        vertical-align: middle;\n",
       "    }\n",
       "\n",
       "    .dataframe tbody tr th {\n",
       "        vertical-align: top;\n",
       "    }\n",
       "\n",
       "    .dataframe thead th {\n",
       "        text-align: right;\n",
       "    }\n",
       "</style>\n",
       "<table border=\"1\" class=\"dataframe\">\n",
       "  <thead>\n",
       "    <tr style=\"text-align: right;\">\n",
       "      <th></th>\n",
       "      <th>applicant_id</th>\n",
       "      <th>Months_loan_taken_for</th>\n",
       "      <th>Principal_loan_amount</th>\n",
       "      <th>EMI_rate_in_percentage_of_disposable_income</th>\n",
       "      <th>Has_coapplicant</th>\n",
       "      <th>Has_guarantor</th>\n",
       "      <th>Number_of_existing_loans_at_this_bank</th>\n",
       "      <th>Primary_applicant_age_in_years</th>\n",
       "      <th>Number_of_dependents</th>\n",
       "      <th>Years_at_current_residence</th>\n",
       "      <th>Foreign_worker</th>\n",
       "    </tr>\n",
       "  </thead>\n",
       "  <tbody>\n",
       "    <tr>\n",
       "      <th>0</th>\n",
       "      <td>-0.197641</td>\n",
       "      <td>-1.236478</td>\n",
       "      <td>-0.745131</td>\n",
       "      <td>0.918477</td>\n",
       "      <td>-0.206768</td>\n",
       "      <td>-0.234206</td>\n",
       "      <td>1.027079</td>\n",
       "      <td>2.766456</td>\n",
       "      <td>-0.428290</td>\n",
       "      <td>1.046987</td>\n",
       "      <td>0.196014</td>\n",
       "    </tr>\n",
       "    <tr>\n",
       "      <th>1</th>\n",
       "      <td>-1.360200</td>\n",
       "      <td>2.248194</td>\n",
       "      <td>0.949817</td>\n",
       "      <td>-0.870183</td>\n",
       "      <td>-0.206768</td>\n",
       "      <td>-0.234206</td>\n",
       "      <td>-0.704926</td>\n",
       "      <td>-1.191404</td>\n",
       "      <td>-0.428290</td>\n",
       "      <td>-0.765977</td>\n",
       "      <td>0.196014</td>\n",
       "    </tr>\n",
       "    <tr>\n",
       "      <th>2</th>\n",
       "      <td>-0.358774</td>\n",
       "      <td>-0.738668</td>\n",
       "      <td>-0.416562</td>\n",
       "      <td>-0.870183</td>\n",
       "      <td>-0.206768</td>\n",
       "      <td>-0.234206</td>\n",
       "      <td>-0.704926</td>\n",
       "      <td>1.183312</td>\n",
       "      <td>2.334869</td>\n",
       "      <td>0.140505</td>\n",
       "      <td>0.196014</td>\n",
       "    </tr>\n",
       "    <tr>\n",
       "      <th>3</th>\n",
       "      <td>-1.343973</td>\n",
       "      <td>1.750384</td>\n",
       "      <td>1.634247</td>\n",
       "      <td>-0.870183</td>\n",
       "      <td>-0.206768</td>\n",
       "      <td>4.269750</td>\n",
       "      <td>-0.704926</td>\n",
       "      <td>0.831502</td>\n",
       "      <td>2.334869</td>\n",
       "      <td>1.046987</td>\n",
       "      <td>0.196014</td>\n",
       "    </tr>\n",
       "    <tr>\n",
       "      <th>4</th>\n",
       "      <td>0.698598</td>\n",
       "      <td>0.256953</td>\n",
       "      <td>0.566664</td>\n",
       "      <td>0.024147</td>\n",
       "      <td>-0.206768</td>\n",
       "      <td>-0.234206</td>\n",
       "      <td>1.027079</td>\n",
       "      <td>1.535122</td>\n",
       "      <td>2.334869</td>\n",
       "      <td>1.046987</td>\n",
       "      <td>0.196014</td>\n",
       "    </tr>\n",
       "    <tr>\n",
       "      <th>...</th>\n",
       "      <td>...</td>\n",
       "      <td>...</td>\n",
       "      <td>...</td>\n",
       "      <td>...</td>\n",
       "      <td>...</td>\n",
       "      <td>...</td>\n",
       "      <td>...</td>\n",
       "      <td>...</td>\n",
       "      <td>...</td>\n",
       "      <td>...</td>\n",
       "      <td>...</td>\n",
       "    </tr>\n",
       "    <tr>\n",
       "      <th>995</th>\n",
       "      <td>1.598826</td>\n",
       "      <td>-0.738668</td>\n",
       "      <td>-0.544162</td>\n",
       "      <td>0.024147</td>\n",
       "      <td>-0.206768</td>\n",
       "      <td>-0.234206</td>\n",
       "      <td>-0.704926</td>\n",
       "      <td>-0.399832</td>\n",
       "      <td>-0.428290</td>\n",
       "      <td>1.046987</td>\n",
       "      <td>0.196014</td>\n",
       "    </tr>\n",
       "    <tr>\n",
       "      <th>996</th>\n",
       "      <td>-1.753131</td>\n",
       "      <td>0.754763</td>\n",
       "      <td>0.207612</td>\n",
       "      <td>0.918477</td>\n",
       "      <td>-0.206768</td>\n",
       "      <td>-0.234206</td>\n",
       "      <td>-0.704926</td>\n",
       "      <td>0.391740</td>\n",
       "      <td>-0.428290</td>\n",
       "      <td>1.046987</td>\n",
       "      <td>0.196014</td>\n",
       "    </tr>\n",
       "    <tr>\n",
       "      <th>997</th>\n",
       "      <td>1.064406</td>\n",
       "      <td>-0.738668</td>\n",
       "      <td>-0.874503</td>\n",
       "      <td>0.918477</td>\n",
       "      <td>-0.206768</td>\n",
       "      <td>-0.234206</td>\n",
       "      <td>-0.704926</td>\n",
       "      <td>0.215835</td>\n",
       "      <td>-0.428290</td>\n",
       "      <td>1.046987</td>\n",
       "      <td>0.196014</td>\n",
       "    </tr>\n",
       "    <tr>\n",
       "      <th>998</th>\n",
       "      <td>1.355352</td>\n",
       "      <td>1.999289</td>\n",
       "      <td>-0.505528</td>\n",
       "      <td>0.918477</td>\n",
       "      <td>-0.206768</td>\n",
       "      <td>-0.234206</td>\n",
       "      <td>-0.704926</td>\n",
       "      <td>-1.103451</td>\n",
       "      <td>-0.428290</td>\n",
       "      <td>1.046987</td>\n",
       "      <td>0.196014</td>\n",
       "    </tr>\n",
       "    <tr>\n",
       "      <th>999</th>\n",
       "      <td>0.638806</td>\n",
       "      <td>1.999289</td>\n",
       "      <td>0.462457</td>\n",
       "      <td>0.024147</td>\n",
       "      <td>-0.206768</td>\n",
       "      <td>-0.234206</td>\n",
       "      <td>-0.704926</td>\n",
       "      <td>-0.751642</td>\n",
       "      <td>-0.428290</td>\n",
       "      <td>1.046987</td>\n",
       "      <td>0.196014</td>\n",
       "    </tr>\n",
       "  </tbody>\n",
       "</table>\n",
       "<p>1000 rows × 11 columns</p>\n",
       "</div>"
      ],
      "text/plain": [
       "     applicant_id  Months_loan_taken_for  Principal_loan_amount  \\\n",
       "0       -0.197641              -1.236478              -0.745131   \n",
       "1       -1.360200               2.248194               0.949817   \n",
       "2       -0.358774              -0.738668              -0.416562   \n",
       "3       -1.343973               1.750384               1.634247   \n",
       "4        0.698598               0.256953               0.566664   \n",
       "..            ...                    ...                    ...   \n",
       "995      1.598826              -0.738668              -0.544162   \n",
       "996     -1.753131               0.754763               0.207612   \n",
       "997      1.064406              -0.738668              -0.874503   \n",
       "998      1.355352               1.999289              -0.505528   \n",
       "999      0.638806               1.999289               0.462457   \n",
       "\n",
       "     EMI_rate_in_percentage_of_disposable_income  Has_coapplicant  \\\n",
       "0                                       0.918477        -0.206768   \n",
       "1                                      -0.870183        -0.206768   \n",
       "2                                      -0.870183        -0.206768   \n",
       "3                                      -0.870183        -0.206768   \n",
       "4                                       0.024147        -0.206768   \n",
       "..                                           ...              ...   \n",
       "995                                     0.024147        -0.206768   \n",
       "996                                     0.918477        -0.206768   \n",
       "997                                     0.918477        -0.206768   \n",
       "998                                     0.918477        -0.206768   \n",
       "999                                     0.024147        -0.206768   \n",
       "\n",
       "     Has_guarantor  Number_of_existing_loans_at_this_bank  \\\n",
       "0        -0.234206                               1.027079   \n",
       "1        -0.234206                              -0.704926   \n",
       "2        -0.234206                              -0.704926   \n",
       "3         4.269750                              -0.704926   \n",
       "4        -0.234206                               1.027079   \n",
       "..             ...                                    ...   \n",
       "995      -0.234206                              -0.704926   \n",
       "996      -0.234206                              -0.704926   \n",
       "997      -0.234206                              -0.704926   \n",
       "998      -0.234206                              -0.704926   \n",
       "999      -0.234206                              -0.704926   \n",
       "\n",
       "     Primary_applicant_age_in_years  Number_of_dependents  \\\n",
       "0                          2.766456             -0.428290   \n",
       "1                         -1.191404             -0.428290   \n",
       "2                          1.183312              2.334869   \n",
       "3                          0.831502              2.334869   \n",
       "4                          1.535122              2.334869   \n",
       "..                              ...                   ...   \n",
       "995                       -0.399832             -0.428290   \n",
       "996                        0.391740             -0.428290   \n",
       "997                        0.215835             -0.428290   \n",
       "998                       -1.103451             -0.428290   \n",
       "999                       -0.751642             -0.428290   \n",
       "\n",
       "     Years_at_current_residence  Foreign_worker  \n",
       "0                      1.046987        0.196014  \n",
       "1                     -0.765977        0.196014  \n",
       "2                      0.140505        0.196014  \n",
       "3                      1.046987        0.196014  \n",
       "4                      1.046987        0.196014  \n",
       "..                          ...             ...  \n",
       "995                    1.046987        0.196014  \n",
       "996                    1.046987        0.196014  \n",
       "997                    1.046987        0.196014  \n",
       "998                    1.046987        0.196014  \n",
       "999                    1.046987        0.196014  \n",
       "\n",
       "[1000 rows x 11 columns]"
      ]
     },
     "execution_count": 24,
     "metadata": {},
     "output_type": "execute_result"
    }
   ],
   "source": [
    "sc=StandardScaler()\n",
    "scaled=pd.DataFrame(sc.fit_transform(num),columns=num.columns)\n",
    "scaled"
   ]
  },
  {
   "cell_type": "code",
   "execution_count": 25,
   "id": "0399114d",
   "metadata": {},
   "outputs": [],
   "source": [
    "X=pd.concat([scaled,dum],axis=1)\n",
    "y=df['high_risk_applicant']"
   ]
  },
  {
   "cell_type": "code",
   "execution_count": 26,
   "id": "83f9d17f",
   "metadata": {},
   "outputs": [],
   "source": [
    "X_train,X_test,y_train,y_test=train_test_split(X,y,test_size=0.2,random_state=0)\n",
    "logreg=LogisticRegression()\n",
    "logreg.fit(X_train,y_train)\n",
    "y_pred_proba=logreg.predict_proba(X_test)\n",
    "y_pred_proba=pd.DataFrame(y_pred_proba[:,1:])"
   ]
  },
  {
   "cell_type": "code",
   "execution_count": 27,
   "id": "c57b737c",
   "metadata": {},
   "outputs": [
    {
     "name": "stdout",
     "output_type": "stream",
     "text": [
      "              precision    recall  f1-score   support\n",
      "\n",
      "           0       0.76      0.88      0.81       142\n",
      "           1       0.51      0.31      0.39        58\n",
      "\n",
      "    accuracy                           0.71       200\n",
      "   macro avg       0.64      0.60      0.60       200\n",
      "weighted avg       0.69      0.71      0.69       200\n",
      "\n"
     ]
    }
   ],
   "source": [
    "a=[]\n",
    "for i in y_pred_proba[0]:\n",
    "    if i>0.5:\n",
    "        a.append(1)\n",
    "    else:\n",
    "        a.append(0)\n",
    "y_pred=a\n",
    "print(classification_report(y_test,y_pred))"
   ]
  },
  {
   "cell_type": "code",
   "execution_count": 28,
   "id": "80e60323",
   "metadata": {},
   "outputs": [
    {
     "data": {
      "text/html": [
       "<div>\n",
       "<style scoped>\n",
       "    .dataframe tbody tr th:only-of-type {\n",
       "        vertical-align: middle;\n",
       "    }\n",
       "\n",
       "    .dataframe tbody tr th {\n",
       "        vertical-align: top;\n",
       "    }\n",
       "\n",
       "    .dataframe thead th {\n",
       "        text-align: right;\n",
       "    }\n",
       "</style>\n",
       "<table border=\"1\" class=\"dataframe\">\n",
       "  <thead>\n",
       "    <tr style=\"text-align: right;\">\n",
       "      <th></th>\n",
       "      <th>Predicted: 0</th>\n",
       "      <th>Predicted: 1</th>\n",
       "    </tr>\n",
       "  </thead>\n",
       "  <tbody>\n",
       "    <tr>\n",
       "      <th>Actual: 0</th>\n",
       "      <td>125</td>\n",
       "      <td>17</td>\n",
       "    </tr>\n",
       "    <tr>\n",
       "      <th>Actual: 1</th>\n",
       "      <td>40</td>\n",
       "      <td>18</td>\n",
       "    </tr>\n",
       "  </tbody>\n",
       "</table>\n",
       "</div>"
      ],
      "text/plain": [
       "           Predicted: 0  Predicted: 1\n",
       "Actual: 0           125            17\n",
       "Actual: 1            40            18"
      ]
     },
     "execution_count": 28,
     "metadata": {},
     "output_type": "execute_result"
    }
   ],
   "source": [
    "pd.DataFrame(confusion_matrix(y_test,y_pred),columns=['Predicted: 0','Predicted: 1'],index=['Actual: 0','Actual: 1'])"
   ]
  },
  {
   "cell_type": "markdown",
   "id": "de38f97d",
   "metadata": {},
   "source": [
    "* We need a better Recall for 1"
   ]
  },
  {
   "cell_type": "code",
   "execution_count": 29,
   "id": "131bcc59",
   "metadata": {},
   "outputs": [
    {
     "name": "stdout",
     "output_type": "stream",
     "text": [
      "              precision    recall  f1-score   support\n",
      "\n",
      "           0       0.79      0.75      0.77       142\n",
      "           1       0.45      0.50      0.48        58\n",
      "\n",
      "    accuracy                           0.68       200\n",
      "   macro avg       0.62      0.63      0.62       200\n",
      "weighted avg       0.69      0.68      0.68       200\n",
      "\n"
     ]
    }
   ],
   "source": [
    "a=[]\n",
    "for i in y_pred_proba[0]:\n",
    "    if i>0.4:\n",
    "        a.append(1)\n",
    "    else:\n",
    "        a.append(0)\n",
    "y_pred=a\n",
    "print(classification_report(y_test,y_pred))"
   ]
  },
  {
   "cell_type": "code",
   "execution_count": 30,
   "id": "08ceec7a",
   "metadata": {},
   "outputs": [
    {
     "data": {
      "text/html": [
       "<div>\n",
       "<style scoped>\n",
       "    .dataframe tbody tr th:only-of-type {\n",
       "        vertical-align: middle;\n",
       "    }\n",
       "\n",
       "    .dataframe tbody tr th {\n",
       "        vertical-align: top;\n",
       "    }\n",
       "\n",
       "    .dataframe thead th {\n",
       "        text-align: right;\n",
       "    }\n",
       "</style>\n",
       "<table border=\"1\" class=\"dataframe\">\n",
       "  <thead>\n",
       "    <tr style=\"text-align: right;\">\n",
       "      <th></th>\n",
       "      <th>Predicted: 0</th>\n",
       "      <th>Predicted: 1</th>\n",
       "    </tr>\n",
       "  </thead>\n",
       "  <tbody>\n",
       "    <tr>\n",
       "      <th>Actual: 0</th>\n",
       "      <td>107</td>\n",
       "      <td>35</td>\n",
       "    </tr>\n",
       "    <tr>\n",
       "      <th>Actual: 1</th>\n",
       "      <td>29</td>\n",
       "      <td>29</td>\n",
       "    </tr>\n",
       "  </tbody>\n",
       "</table>\n",
       "</div>"
      ],
      "text/plain": [
       "           Predicted: 0  Predicted: 1\n",
       "Actual: 0           107            35\n",
       "Actual: 1            29            29"
      ]
     },
     "execution_count": 30,
     "metadata": {},
     "output_type": "execute_result"
    }
   ],
   "source": [
    "pd.DataFrame(confusion_matrix(y_test,y_pred),columns=['Predicted: 0','Predicted: 1'],index=['Actual: 0','Actual: 1'])"
   ]
  },
  {
   "cell_type": "code",
   "execution_count": 31,
   "id": "ed26d350",
   "metadata": {},
   "outputs": [
    {
     "name": "stdout",
     "output_type": "stream",
     "text": [
      "              precision    recall  f1-score   support\n",
      "\n",
      "           0       0.80      0.61      0.69       142\n",
      "           1       0.39      0.62      0.48        58\n",
      "\n",
      "    accuracy                           0.61       200\n",
      "   macro avg       0.59      0.61      0.58       200\n",
      "weighted avg       0.68      0.61      0.63       200\n",
      "\n"
     ]
    }
   ],
   "source": [
    "a=[]\n",
    "for i in y_pred_proba[0]:\n",
    "    if i>0.3:\n",
    "        a.append(1)\n",
    "    else:\n",
    "        a.append(0)\n",
    "y_pred=a\n",
    "print(classification_report(y_test,y_pred))"
   ]
  },
  {
   "cell_type": "code",
   "execution_count": 32,
   "id": "f9310d64",
   "metadata": {},
   "outputs": [
    {
     "data": {
      "text/html": [
       "<div>\n",
       "<style scoped>\n",
       "    .dataframe tbody tr th:only-of-type {\n",
       "        vertical-align: middle;\n",
       "    }\n",
       "\n",
       "    .dataframe tbody tr th {\n",
       "        vertical-align: top;\n",
       "    }\n",
       "\n",
       "    .dataframe thead th {\n",
       "        text-align: right;\n",
       "    }\n",
       "</style>\n",
       "<table border=\"1\" class=\"dataframe\">\n",
       "  <thead>\n",
       "    <tr style=\"text-align: right;\">\n",
       "      <th></th>\n",
       "      <th>Predicted: 0</th>\n",
       "      <th>Predicted: 1</th>\n",
       "    </tr>\n",
       "  </thead>\n",
       "  <tbody>\n",
       "    <tr>\n",
       "      <th>Actual: 0</th>\n",
       "      <td>86</td>\n",
       "      <td>56</td>\n",
       "    </tr>\n",
       "    <tr>\n",
       "      <th>Actual: 1</th>\n",
       "      <td>22</td>\n",
       "      <td>36</td>\n",
       "    </tr>\n",
       "  </tbody>\n",
       "</table>\n",
       "</div>"
      ],
      "text/plain": [
       "           Predicted: 0  Predicted: 1\n",
       "Actual: 0            86            56\n",
       "Actual: 1            22            36"
      ]
     },
     "execution_count": 32,
     "metadata": {},
     "output_type": "execute_result"
    }
   ],
   "source": [
    "pd.DataFrame(confusion_matrix(y_test,y_pred),columns=['Predicted: 0','Predicted: 1'],index=['Actual: 0','Actual: 1'])"
   ]
  },
  {
   "cell_type": "code",
   "execution_count": 33,
   "id": "7d1a2f2e",
   "metadata": {},
   "outputs": [
    {
     "name": "stdout",
     "output_type": "stream",
     "text": [
      "              precision    recall  f1-score   support\n",
      "\n",
      "           0       0.83      0.42      0.56       142\n",
      "           1       0.36      0.79      0.49        58\n",
      "\n",
      "    accuracy                           0.53       200\n",
      "   macro avg       0.60      0.61      0.53       200\n",
      "weighted avg       0.70      0.53      0.54       200\n",
      "\n"
     ]
    }
   ],
   "source": [
    "a=[]\n",
    "for i in y_pred_proba[0]:\n",
    "    if i>0.2:\n",
    "        a.append(1)\n",
    "    else:\n",
    "        a.append(0)\n",
    "y_pred=a\n",
    "print(classification_report(y_test,y_pred))"
   ]
  },
  {
   "cell_type": "code",
   "execution_count": 34,
   "id": "b66efaf7",
   "metadata": {},
   "outputs": [
    {
     "data": {
      "text/html": [
       "<div>\n",
       "<style scoped>\n",
       "    .dataframe tbody tr th:only-of-type {\n",
       "        vertical-align: middle;\n",
       "    }\n",
       "\n",
       "    .dataframe tbody tr th {\n",
       "        vertical-align: top;\n",
       "    }\n",
       "\n",
       "    .dataframe thead th {\n",
       "        text-align: right;\n",
       "    }\n",
       "</style>\n",
       "<table border=\"1\" class=\"dataframe\">\n",
       "  <thead>\n",
       "    <tr style=\"text-align: right;\">\n",
       "      <th></th>\n",
       "      <th>Predicted: 0</th>\n",
       "      <th>Predicted: 1</th>\n",
       "    </tr>\n",
       "  </thead>\n",
       "  <tbody>\n",
       "    <tr>\n",
       "      <th>Actual: 0</th>\n",
       "      <td>60</td>\n",
       "      <td>82</td>\n",
       "    </tr>\n",
       "    <tr>\n",
       "      <th>Actual: 1</th>\n",
       "      <td>12</td>\n",
       "      <td>46</td>\n",
       "    </tr>\n",
       "  </tbody>\n",
       "</table>\n",
       "</div>"
      ],
      "text/plain": [
       "           Predicted: 0  Predicted: 1\n",
       "Actual: 0            60            82\n",
       "Actual: 1            12            46"
      ]
     },
     "execution_count": 34,
     "metadata": {},
     "output_type": "execute_result"
    }
   ],
   "source": [
    "pd.DataFrame(confusion_matrix(y_test,y_pred),columns=['Predicted: 0','Predicted: 1'],index=['Actual: 0','Actual: 1'])"
   ]
  },
  {
   "cell_type": "code",
   "execution_count": 35,
   "id": "95410bc1",
   "metadata": {},
   "outputs": [
    {
     "name": "stdout",
     "output_type": "stream",
     "text": [
      "              precision    recall  f1-score   support\n",
      "\n",
      "           0       0.79      0.19      0.31       142\n",
      "           1       0.31      0.88      0.46        58\n",
      "\n",
      "    accuracy                           0.39       200\n",
      "   macro avg       0.55      0.53      0.38       200\n",
      "weighted avg       0.65      0.39      0.35       200\n",
      "\n"
     ]
    }
   ],
   "source": [
    "a=[]\n",
    "for i in y_pred_proba[0]:\n",
    "    if i>0.1:\n",
    "        a.append(1)\n",
    "    else:\n",
    "        a.append(0)\n",
    "y_pred=a\n",
    "print(classification_report(y_test,y_pred))"
   ]
  },
  {
   "cell_type": "code",
   "execution_count": 36,
   "id": "b2c59082",
   "metadata": {},
   "outputs": [
    {
     "data": {
      "text/html": [
       "<div>\n",
       "<style scoped>\n",
       "    .dataframe tbody tr th:only-of-type {\n",
       "        vertical-align: middle;\n",
       "    }\n",
       "\n",
       "    .dataframe tbody tr th {\n",
       "        vertical-align: top;\n",
       "    }\n",
       "\n",
       "    .dataframe thead th {\n",
       "        text-align: right;\n",
       "    }\n",
       "</style>\n",
       "<table border=\"1\" class=\"dataframe\">\n",
       "  <thead>\n",
       "    <tr style=\"text-align: right;\">\n",
       "      <th></th>\n",
       "      <th>Predicted: 0</th>\n",
       "      <th>Predicted: 1</th>\n",
       "    </tr>\n",
       "  </thead>\n",
       "  <tbody>\n",
       "    <tr>\n",
       "      <th>Actual: 0</th>\n",
       "      <td>27</td>\n",
       "      <td>115</td>\n",
       "    </tr>\n",
       "    <tr>\n",
       "      <th>Actual: 1</th>\n",
       "      <td>7</td>\n",
       "      <td>51</td>\n",
       "    </tr>\n",
       "  </tbody>\n",
       "</table>\n",
       "</div>"
      ],
      "text/plain": [
       "           Predicted: 0  Predicted: 1\n",
       "Actual: 0            27           115\n",
       "Actual: 1             7            51"
      ]
     },
     "execution_count": 36,
     "metadata": {},
     "output_type": "execute_result"
    }
   ],
   "source": [
    "pd.DataFrame(confusion_matrix(y_test,y_pred),columns=['Predicted: 0','Predicted: 1'],index=['Actual: 0','Actual: 1'])"
   ]
  },
  {
   "cell_type": "markdown",
   "id": "6c6a4d4c",
   "metadata": {},
   "source": [
    "* Since the Recall of 1 is more important. We can improve it by decreasing the cut-off score. But accuracy goes down"
   ]
  },
  {
   "cell_type": "code",
   "execution_count": 37,
   "id": "c527ae0b",
   "metadata": {},
   "outputs": [
    {
     "name": "stdout",
     "output_type": "stream",
     "text": [
      "0.6576007770762506\n"
     ]
    },
    {
     "data": {
      "image/png": "[encoded data removed]",
      "text/plain": [
       "<Figure size 432x288 with 1 Axes>"
      ]
     },
     "metadata": {
      "needs_background": "light"
     },
     "output_type": "display_data"
    }
   ],
   "source": [
    "fpr,tpr,threshold=roc_curve(y_test,y_pred_proba)\n",
    "plt.plot(fpr,tpr)\n",
    "plt.xlim([0.0,1.0])\n",
    "plt.ylim([0.0,1.0])\n",
    "plt.xlabel('False Positive Rate')\n",
    "plt.ylabel('True Positive Rate')\n",
    "print(roc_auc_score(y_test,y_pred_proba))\n",
    "plt.show()"
   ]
  }
 ],
 "metadata": {
  "kernelspec": {
   "display_name": "Python 3",
   "language": "python",
   "name": "python3"
  },
  "language_info": {
   "codemirror_mode": {
    "name": "ipython",
    "version": 3
   },
   "file_extension": ".py",
   "mimetype": "text/x-python",
   "name": "python",
   "nbconvert_exporter": "python",
   "pygments_lexer": "ipython3",
   "version": "3.9.5"
  }
 },
 "nbformat": 4,
 "nbformat_minor": 5
}
